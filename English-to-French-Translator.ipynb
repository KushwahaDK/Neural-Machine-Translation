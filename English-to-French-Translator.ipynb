{
 "cells": [
  {
   "cell_type": "markdown",
   "metadata": {},
   "source": [
    "## This is the base Notebook for Neural Machine Translation (En-Fr translation)"
   ]
  },
  {
   "cell_type": "code",
   "execution_count": 1,
   "metadata": {
    "ExecuteTime": {
     "end_time": "2020-08-19T21:04:37.331193Z",
     "start_time": "2020-08-19T21:04:35.201374Z"
    }
   },
   "outputs": [],
   "source": [
    "import re\n",
    "from tensorflow.keras.preprocessing.sequence import pad_sequences"
   ]
  },
  {
   "cell_type": "markdown",
   "metadata": {},
   "source": [
    "###  Step 1 : Data Fetching"
   ]
  },
  {
   "cell_type": "code",
   "execution_count": 2,
   "metadata": {
    "ExecuteTime": {
     "end_time": "2020-08-19T21:04:37.338147Z",
     "start_time": "2020-08-19T21:04:37.332161Z"
    }
   },
   "outputs": [],
   "source": [
    "def fetch_data(data_path):\n",
    "    with open(data_path, 'r', encoding='utf-8') as f:\n",
    "        lines = f.read().split('\\n')\n",
    "    en_text = []\n",
    "    fr_text = []\n",
    "    for line in lines:\n",
    "        en, fr, _ = line.split('\\t')\n",
    "        en_text.append(en)\n",
    "        fr_text.append(fr)\n",
    "        \n",
    "    return en_text, fr_text"
   ]
  },
  {
   "cell_type": "code",
   "execution_count": 3,
   "metadata": {
    "ExecuteTime": {
     "end_time": "2020-08-19T21:04:37.536645Z",
     "start_time": "2020-08-19T21:04:37.346123Z"
    }
   },
   "outputs": [],
   "source": [
    "DATA_PATH = r'datasets/French-English/fra.txt'\n",
    "en_text, fr_text = fetch_data(DATA_PATH)"
   ]
  },
  {
   "cell_type": "code",
   "execution_count": 4,
   "metadata": {
    "ExecuteTime": {
     "end_time": "2020-08-19T21:04:37.540603Z",
     "start_time": "2020-08-19T21:04:37.537644Z"
    }
   },
   "outputs": [],
   "source": [
    "# en_text[:10]"
   ]
  },
  {
   "cell_type": "code",
   "execution_count": 5,
   "metadata": {
    "ExecuteTime": {
     "end_time": "2020-08-19T21:04:37.544291Z",
     "start_time": "2020-08-19T21:04:37.541600Z"
    }
   },
   "outputs": [],
   "source": [
    "# fr_text[:10]"
   ]
  },
  {
   "cell_type": "markdown",
   "metadata": {},
   "source": [
    "###  Step 2 : Data Cleaning"
   ]
  },
  {
   "cell_type": "code",
   "execution_count": 6,
   "metadata": {
    "ExecuteTime": {
     "end_time": "2020-08-19T21:04:37.555262Z",
     "start_time": "2020-08-19T21:04:37.545288Z"
    }
   },
   "outputs": [],
   "source": [
    "def text_clean(text):\n",
    "    \"\"\" Function to clean the text before training\n",
    "    \"\"\"\n",
    "    text = text.lower()\n",
    "    \n",
    "    # Replace the short words in there expanded forms\n",
    "    text = re.sub(\"i'm\", \"i am\", text)\n",
    "    text = re.sub(\"&\", \"and\", text)\n",
    "    \n",
    "    # remove all non essential charachters\n",
    "    text = re.sub(r\"[-{}\\\"#/@;:<>()+=|.?,%$!]\",\"\", text)\n",
    "    \n",
    "    text = re.sub(r\"[0-9]\",\"\", text)\n",
    "    \n",
    "    # Remove outside spaces\n",
    "    text = text.strip()\n",
    "    \n",
    "    return text"
   ]
  },
  {
   "cell_type": "code",
   "execution_count": 7,
   "metadata": {
    "ExecuteTime": {
     "end_time": "2020-08-19T21:04:38.229514Z",
     "start_time": "2020-08-19T21:04:37.557258Z"
    }
   },
   "outputs": [],
   "source": [
    "clean_en_text = [text_clean(text) for text in en_text]"
   ]
  },
  {
   "cell_type": "code",
   "execution_count": 8,
   "metadata": {
    "ExecuteTime": {
     "end_time": "2020-08-19T21:04:38.992045Z",
     "start_time": "2020-08-19T21:04:38.230508Z"
    }
   },
   "outputs": [],
   "source": [
    "clean_fr_text = [text_clean(text) for text in fr_text]"
   ]
  },
  {
   "cell_type": "markdown",
   "metadata": {},
   "source": [
    "### 3. Data Formating"
   ]
  },
  {
   "cell_type": "code",
   "execution_count": 9,
   "metadata": {
    "ExecuteTime": {
     "end_time": "2020-08-19T21:04:38.996002Z",
     "start_time": "2020-08-19T21:04:38.993042Z"
    }
   },
   "outputs": [],
   "source": [
    "tokens = ['<SOS>', '<PAD>', '<EOS>']"
   ]
  },
  {
   "cell_type": "code",
   "execution_count": 10,
   "metadata": {
    "ExecuteTime": {
     "end_time": "2020-08-19T21:04:39.168540Z",
     "start_time": "2020-08-19T21:04:38.996999Z"
    }
   },
   "outputs": [],
   "source": [
    "en_vocab = sorted(set((' '.join(clean_en_text)).split()))"
   ]
  },
  {
   "cell_type": "code",
   "execution_count": 11,
   "metadata": {
    "ExecuteTime": {
     "end_time": "2020-08-19T21:04:39.173552Z",
     "start_time": "2020-08-19T21:04:39.169538Z"
    }
   },
   "outputs": [],
   "source": [
    "en_vocab.extend(tokens)"
   ]
  },
  {
   "cell_type": "code",
   "execution_count": 12,
   "metadata": {
    "ExecuteTime": {
     "end_time": "2020-08-19T21:04:39.389948Z",
     "start_time": "2020-08-19T21:04:39.174556Z"
    }
   },
   "outputs": [],
   "source": [
    "fr_vocab = sorted(set((' '.join(clean_fr_text)).split()))"
   ]
  },
  {
   "cell_type": "code",
   "execution_count": 13,
   "metadata": {
    "ExecuteTime": {
     "end_time": "2020-08-19T21:04:39.393960Z",
     "start_time": "2020-08-19T21:04:39.390983Z"
    }
   },
   "outputs": [],
   "source": [
    "fr_vocab.extend(tokens)"
   ]
  },
  {
   "cell_type": "code",
   "execution_count": 14,
   "metadata": {
    "ExecuteTime": {
     "end_time": "2020-08-19T21:04:39.430838Z",
     "start_time": "2020-08-19T21:04:39.394935Z"
    }
   },
   "outputs": [],
   "source": [
    "en_word_idx = dict([(word, i) for i, word in enumerate(en_vocab)])\n",
    "en_idx_word = dict([(i, word) for i, word in enumerate(en_vocab)])"
   ]
  },
  {
   "cell_type": "code",
   "execution_count": 15,
   "metadata": {
    "ExecuteTime": {
     "end_time": "2020-08-19T21:04:39.469734Z",
     "start_time": "2020-08-19T21:04:39.431862Z"
    }
   },
   "outputs": [],
   "source": [
    "fr_word_idx = dict([(word, i) for i, word in enumerate(fr_vocab)])\n",
    "fr_idx_word = dict([(i, word) for i, word in enumerate(fr_vocab)])"
   ]
  },
  {
   "cell_type": "code",
   "execution_count": 16,
   "metadata": {
    "ExecuteTime": {
     "end_time": "2020-08-19T21:04:39.536600Z",
     "start_time": "2020-08-19T21:04:39.471730Z"
    }
   },
   "outputs": [],
   "source": [
    "tokenise_fr_text = []\n",
    "for line in clean_fr_text:\n",
    "    tokenise_fr_text.append(tokens[0] + \" \" + line + \" \" + tokens[2])"
   ]
  },
  {
   "cell_type": "code",
   "execution_count": 17,
   "metadata": {
    "ExecuteTime": {
     "end_time": "2020-08-19T21:04:39.540545Z",
     "start_time": "2020-08-19T21:04:39.537585Z"
    }
   },
   "outputs": [],
   "source": [
    "complete_fr_text = tokenise_fr_text\n",
    "complete_en_text = clean_en_text"
   ]
  },
  {
   "cell_type": "code",
   "execution_count": 18,
   "metadata": {
    "ExecuteTime": {
     "end_time": "2020-08-19T21:04:39.613379Z",
     "start_time": "2020-08-19T21:04:39.541542Z"
    }
   },
   "outputs": [
    {
     "data": {
      "text/plain": [
       "44"
      ]
     },
     "execution_count": 18,
     "metadata": {},
     "output_type": "execute_result"
    }
   ],
   "source": [
    "max_en_seq_length = max([len(text.split()) for text in complete_en_text])\n",
    "max_en_seq_length"
   ]
  },
  {
   "cell_type": "code",
   "execution_count": 19,
   "metadata": {
    "ExecuteTime": {
     "end_time": "2020-08-19T21:04:39.714081Z",
     "start_time": "2020-08-19T21:04:39.614348Z"
    }
   },
   "outputs": [
    {
     "data": {
      "text/plain": [
       "57"
      ]
     },
     "execution_count": 19,
     "metadata": {},
     "output_type": "execute_result"
    }
   ],
   "source": [
    "max_fr_seq_length = max([len(text.split()) for text in complete_fr_text])\n",
    "max_fr_seq_length"
   ]
  },
  {
   "cell_type": "code",
   "execution_count": 20,
   "metadata": {
    "ExecuteTime": {
     "end_time": "2020-08-19T21:04:39.719104Z",
     "start_time": "2020-08-19T21:04:39.715109Z"
    }
   },
   "outputs": [
    {
     "data": {
      "text/plain": [
       "['go', 'hi', 'hi', 'run', 'run']"
      ]
     },
     "execution_count": 20,
     "metadata": {},
     "output_type": "execute_result"
    }
   ],
   "source": [
    "complete_en_text[:5]"
   ]
  },
  {
   "cell_type": "code",
   "execution_count": 21,
   "metadata": {
    "ExecuteTime": {
     "end_time": "2020-08-19T21:04:39.726049Z",
     "start_time": "2020-08-19T21:04:39.721061Z"
    }
   },
   "outputs": [
    {
     "data": {
      "text/plain": [
       "['<SOS> va <EOS>',\n",
       " '<SOS> salut <EOS>',\n",
       " '<SOS> salut <EOS>',\n",
       " '<SOS> cours <EOS>',\n",
       " '<SOS> courez <EOS>']"
      ]
     },
     "execution_count": 21,
     "metadata": {},
     "output_type": "execute_result"
    }
   ],
   "source": [
    "complete_fr_text[:5]"
   ]
  },
  {
   "cell_type": "markdown",
   "metadata": {},
   "source": [
    "#### Encoding data with indexes"
   ]
  },
  {
   "cell_type": "code",
   "execution_count": 22,
   "metadata": {
    "ExecuteTime": {
     "end_time": "2020-08-19T21:04:40.658265Z",
     "start_time": "2020-08-19T21:04:39.728044Z"
    }
   },
   "outputs": [],
   "source": [
    "enc_en_text = [[en_word_idx[word] for word in line.split()] for line in complete_en_text]\n",
    "enc_fr_text = [[fr_word_idx[word] for word in line.split()] for line in complete_fr_text]"
   ]
  },
  {
   "cell_type": "markdown",
   "metadata": {},
   "source": [
    "####  Padding of sequences"
   ]
  },
  {
   "cell_type": "code",
   "execution_count": 23,
   "metadata": {
    "ExecuteTime": {
     "end_time": "2020-08-19T21:04:41.746627Z",
     "start_time": "2020-08-19T21:04:40.659198Z"
    }
   },
   "outputs": [],
   "source": [
    "pad_en_text = pad_sequences(sequences=enc_en_text, maxlen=max_en_seq_length, padding='post', truncating='post', value=en_word_idx['<PAD>'])\n",
    "pad_fr_text = pad_sequences(sequences=enc_fr_text, maxlen=max_fr_seq_length, padding='post', truncating='post', value=fr_word_idx['<PAD>'])"
   ]
  },
  {
   "cell_type": "code",
   "execution_count": 24,
   "metadata": {
    "ExecuteTime": {
     "end_time": "2020-08-19T21:04:41.755525Z",
     "start_time": "2020-08-19T21:04:41.748542Z"
    }
   },
   "outputs": [
    {
     "data": {
      "text/plain": [
       "array([[ 5603, 14726, 14726, ..., 14726, 14726, 14726],\n",
       "       [ 6157, 14726, 14726, ..., 14726, 14726, 14726],\n",
       "       [ 6157, 14726, 14726, ..., 14726, 14726, 14726],\n",
       "       ...,\n",
       "       [ 3336,  6975, 12015, ..., 14726, 14726, 14726],\n",
       "       [11699, 13072,   663, ...,  7443,  6973, 14726],\n",
       "       [ 6496, 12010, 14395, ...,     5,  8471, 12093]])"
      ]
     },
     "execution_count": 24,
     "metadata": {},
     "output_type": "execute_result"
    }
   ],
   "source": [
    "pad_en_text"
   ]
  },
  {
   "cell_type": "code",
   "execution_count": 25,
   "metadata": {
    "ExecuteTime": {
     "end_time": "2020-08-19T21:04:41.763501Z",
     "start_time": "2020-08-19T21:04:41.757516Z"
    }
   },
   "outputs": [
    {
     "data": {
      "text/plain": [
       "(177210, 44)"
      ]
     },
     "execution_count": 25,
     "metadata": {},
     "output_type": "execute_result"
    }
   ],
   "source": [
    "pad_en_text.shape"
   ]
  },
  {
   "cell_type": "code",
   "execution_count": 26,
   "metadata": {
    "ExecuteTime": {
     "end_time": "2020-08-19T21:04:41.771479Z",
     "start_time": "2020-08-19T21:04:41.766498Z"
    }
   },
   "outputs": [
    {
     "data": {
      "text/plain": [
       "array([[29594, 27919, 29596, ..., 29595, 29595, 29595],\n",
       "       [29594, 24489, 29596, ..., 29595, 29595, 29595],\n",
       "       [29594, 24489, 29596, ..., 29595, 29595, 29595],\n",
       "       ...,\n",
       "       [29594, 14864, 17084, ..., 29595, 29595, 29595],\n",
       "       [29594, 21192, 28742, ..., 29595, 29595, 29595],\n",
       "       [29594, 24969, 21542, ..., 15256, 17950, 29596]])"
      ]
     },
     "execution_count": 26,
     "metadata": {},
     "output_type": "execute_result"
    }
   ],
   "source": [
    "pad_fr_text"
   ]
  },
  {
   "cell_type": "code",
   "execution_count": 27,
   "metadata": {
    "ExecuteTime": {
     "end_time": "2020-08-19T21:04:41.777463Z",
     "start_time": "2020-08-19T21:04:41.772477Z"
    }
   },
   "outputs": [
    {
     "data": {
      "text/plain": [
       "(177210, 57)"
      ]
     },
     "execution_count": 27,
     "metadata": {},
     "output_type": "execute_result"
    }
   ],
   "source": [
    "pad_fr_text.shape"
   ]
  }
 ],
 "metadata": {
  "kernelspec": {
   "display_name": "Python 3",
   "language": "python",
   "name": "python3"
  },
  "language_info": {
   "codemirror_mode": {
    "name": "ipython",
    "version": 3
   },
   "file_extension": ".py",
   "mimetype": "text/x-python",
   "name": "python",
   "nbconvert_exporter": "python",
   "pygments_lexer": "ipython3",
   "version": "3.7.7"
  }
 },
 "nbformat": 4,
 "nbformat_minor": 4
}
