{
 "cells": [
  {
   "cell_type": "markdown",
   "metadata": {},
   "source": [
    "## This is the base Notebook for Neural Machine Translation (En-Fr translation)"
   ]
  },
  {
   "cell_type": "code",
   "execution_count": 1,
   "metadata": {
    "ExecuteTime": {
     "end_time": "2020-08-21T19:50:25.553283Z",
     "start_time": "2020-08-21T19:50:23.241863Z"
    }
   },
   "outputs": [],
   "source": [
    "import re\n",
    "from tensorflow.keras.preprocessing.sequence import pad_sequences\n",
    "from sklearn.model_selection import train_test_split\n",
    "\n",
    "from tensorflow.keras.models import Model\n",
    "from tensorflow.keras.layers import Dense, Input, Embedding, LSTM\n"
   ]
  },
  {
   "cell_type": "markdown",
   "metadata": {},
   "source": [
    "###  Step 1 : Data Fetching"
   ]
  },
  {
   "cell_type": "code",
   "execution_count": 2,
   "metadata": {
    "ExecuteTime": {
     "end_time": "2020-08-21T19:50:25.561274Z",
     "start_time": "2020-08-21T19:50:25.555250Z"
    }
   },
   "outputs": [],
   "source": [
    "def fetch_data(data_path):\n",
    "    \"\"\" \n",
    "    This function will fetch the dataset with 'utf-8' encoding, \n",
    "    separate the source (en) and target (fr) language.\n",
    "    \n",
    "    input: path of the dataset txt file\n",
    "    output: list of all English text, list of corresponding French text\n",
    "    \"\"\"\n",
    "    with open(data_path, 'r', encoding='utf-8') as f:\n",
    "        lines = f.read().split('\\n')\n",
    "    en_text = []\n",
    "    fr_text = []\n",
    "    for line in lines:\n",
    "        en, fr, _ = line.split('\\t')\n",
    "        en_text.append(en)\n",
    "        fr_text.append(fr)\n",
    "        \n",
    "    return en_text, fr_text"
   ]
  },
  {
   "cell_type": "code",
   "execution_count": 3,
   "metadata": {
    "ExecuteTime": {
     "end_time": "2020-08-21T19:50:25.733772Z",
     "start_time": "2020-08-21T19:50:25.562231Z"
    }
   },
   "outputs": [],
   "source": [
    "DATA_PATH = r'datasets/French-English/fra.txt'\n",
    "en_text, fr_text = fetch_data(DATA_PATH)"
   ]
  },
  {
   "cell_type": "code",
   "execution_count": 4,
   "metadata": {
    "ExecuteTime": {
     "end_time": "2020-08-21T19:50:25.737760Z",
     "start_time": "2020-08-21T19:50:25.734781Z"
    }
   },
   "outputs": [],
   "source": [
    "# fr_text[:10]"
   ]
  },
  {
   "cell_type": "markdown",
   "metadata": {},
   "source": [
    "###  Step 2 : Data Cleaning"
   ]
  },
  {
   "cell_type": "code",
   "execution_count": 5,
   "metadata": {
    "ExecuteTime": {
     "end_time": "2020-08-21T19:50:25.742747Z",
     "start_time": "2020-08-21T19:50:25.738768Z"
    }
   },
   "outputs": [],
   "source": [
    "def text_clean(text):\n",
    "    \"\"\" \n",
    "    Function to clean the text before training.\n",
    "    input: text single line\n",
    "    output: cleaned text line\n",
    "    \"\"\"\n",
    "    \n",
    "    text = text.lower()\n",
    "    \n",
    "    # Replace the short words in there expanded forms\n",
    "    text = re.sub(\"i'm\", \"i am\", text)\n",
    "    text = re.sub(\"&\", \"and\", text)\n",
    "    \n",
    "    # remove all non essential charachters\n",
    "    text = re.sub(r\"[-{}\\\"#/@;:<>()+=|.?,%$!]\",\"\", text)\n",
    "    text = re.sub(r\"[0-9]\",\"\", text)\n",
    "    \n",
    "    # Remove outside spaces\n",
    "    text = text.strip()\n",
    "    \n",
    "    return text"
   ]
  },
  {
   "cell_type": "code",
   "execution_count": 6,
   "metadata": {
    "ExecuteTime": {
     "end_time": "2020-08-21T19:50:27.065477Z",
     "start_time": "2020-08-21T19:50:25.743744Z"
    }
   },
   "outputs": [],
   "source": [
    "clean_en_text = [text_clean(text) for text in en_text]\n",
    "clean_fr_text = [text_clean(text) for text in fr_text]"
   ]
  },
  {
   "cell_type": "markdown",
   "metadata": {},
   "source": [
    "### Step 3. Data Formating"
   ]
  },
  {
   "cell_type": "code",
   "execution_count": 7,
   "metadata": {
    "ExecuteTime": {
     "end_time": "2020-08-21T19:50:27.083343Z",
     "start_time": "2020-08-21T19:50:27.066390Z"
    }
   },
   "outputs": [],
   "source": [
    "# Adding tokens to identify the start and end of TARGET language\n",
    "tokens = ['<SOS>', '<PAD>', '<EOS>']"
   ]
  },
  {
   "cell_type": "code",
   "execution_count": 8,
   "metadata": {
    "ExecuteTime": {
     "end_time": "2020-08-21T19:50:27.225003Z",
     "start_time": "2020-08-21T19:50:27.085361Z"
    }
   },
   "outputs": [],
   "source": [
    "en_vocab = sorted(set((' '.join(clean_en_text)).split()))"
   ]
  },
  {
   "cell_type": "code",
   "execution_count": 9,
   "metadata": {
    "ExecuteTime": {
     "end_time": "2020-08-21T19:50:27.229951Z",
     "start_time": "2020-08-21T19:50:27.225961Z"
    }
   },
   "outputs": [],
   "source": [
    "en_vocab.extend(tokens)"
   ]
  },
  {
   "cell_type": "code",
   "execution_count": 10,
   "metadata": {
    "ExecuteTime": {
     "end_time": "2020-08-21T19:50:27.403518Z",
     "start_time": "2020-08-21T19:50:27.230949Z"
    }
   },
   "outputs": [],
   "source": [
    "fr_vocab = sorted(set((' '.join(clean_fr_text)).split()))"
   ]
  },
  {
   "cell_type": "code",
   "execution_count": 11,
   "metadata": {
    "ExecuteTime": {
     "end_time": "2020-08-21T19:50:27.407476Z",
     "start_time": "2020-08-21T19:50:27.404512Z"
    }
   },
   "outputs": [],
   "source": [
    "fr_vocab.extend(tokens)"
   ]
  },
  {
   "cell_type": "code",
   "execution_count": 12,
   "metadata": {
    "ExecuteTime": {
     "end_time": "2020-08-21T19:50:27.432409Z",
     "start_time": "2020-08-21T19:50:27.408473Z"
    }
   },
   "outputs": [],
   "source": [
    "en_word_idx = dict([(word, i) for i, word in enumerate(en_vocab)])\n",
    "en_idx_word = dict([(i, word) for i, word in enumerate(en_vocab)])"
   ]
  },
  {
   "cell_type": "code",
   "execution_count": 13,
   "metadata": {
    "ExecuteTime": {
     "end_time": "2020-08-21T19:50:27.453354Z",
     "start_time": "2020-08-21T19:50:27.433408Z"
    }
   },
   "outputs": [],
   "source": [
    "fr_word_idx = dict([(word, i) for i, word in enumerate(fr_vocab)])\n",
    "fr_idx_word = dict([(i, word) for i, word in enumerate(fr_vocab)])"
   ]
  },
  {
   "cell_type": "code",
   "execution_count": 14,
   "metadata": {
    "ExecuteTime": {
     "end_time": "2020-08-21T19:50:27.509236Z",
     "start_time": "2020-08-21T19:50:27.454351Z"
    }
   },
   "outputs": [],
   "source": [
    "tokenise_fr_text = []\n",
    "for line in clean_fr_text:\n",
    "    tokenise_fr_text.append(tokens[0] + \" \" + line + \" \" + tokens[2])"
   ]
  },
  {
   "cell_type": "code",
   "execution_count": 15,
   "metadata": {
    "ExecuteTime": {
     "end_time": "2020-08-21T19:50:27.513275Z",
     "start_time": "2020-08-21T19:50:27.510235Z"
    }
   },
   "outputs": [],
   "source": [
    "complete_fr_text = tokenise_fr_text\n",
    "complete_en_text = clean_en_text"
   ]
  },
  {
   "cell_type": "code",
   "execution_count": 16,
   "metadata": {
    "ExecuteTime": {
     "end_time": "2020-08-21T19:50:27.583006Z",
     "start_time": "2020-08-21T19:50:27.514190Z"
    }
   },
   "outputs": [
    {
     "data": {
      "text/plain": [
       "44"
      ]
     },
     "execution_count": 16,
     "metadata": {},
     "output_type": "execute_result"
    }
   ],
   "source": [
    "max_en_seq_length = max([len(text.split()) for text in complete_en_text])\n",
    "max_en_seq_length"
   ]
  },
  {
   "cell_type": "code",
   "execution_count": 17,
   "metadata": {
    "ExecuteTime": {
     "end_time": "2020-08-21T19:50:27.678750Z",
     "start_time": "2020-08-21T19:50:27.584004Z"
    }
   },
   "outputs": [
    {
     "data": {
      "text/plain": [
       "57"
      ]
     },
     "execution_count": 17,
     "metadata": {},
     "output_type": "execute_result"
    }
   ],
   "source": [
    "max_fr_seq_length = max([len(text.split()) for text in complete_fr_text])\n",
    "max_fr_seq_length"
   ]
  },
  {
   "cell_type": "code",
   "execution_count": 18,
   "metadata": {
    "ExecuteTime": {
     "end_time": "2020-08-21T19:50:27.682739Z",
     "start_time": "2020-08-21T19:50:27.678750Z"
    }
   },
   "outputs": [
    {
     "data": {
      "text/plain": [
       "['go', 'hi', 'hi', 'run', 'run']"
      ]
     },
     "execution_count": 18,
     "metadata": {},
     "output_type": "execute_result"
    }
   ],
   "source": [
    "complete_en_text[:5]"
   ]
  },
  {
   "cell_type": "code",
   "execution_count": 19,
   "metadata": {
    "ExecuteTime": {
     "end_time": "2020-08-21T19:50:27.687726Z",
     "start_time": "2020-08-21T19:50:27.683737Z"
    }
   },
   "outputs": [
    {
     "data": {
      "text/plain": [
       "['<SOS> va <EOS>',\n",
       " '<SOS> salut <EOS>',\n",
       " '<SOS> salut <EOS>',\n",
       " '<SOS> cours <EOS>',\n",
       " '<SOS> courez <EOS>']"
      ]
     },
     "execution_count": 19,
     "metadata": {},
     "output_type": "execute_result"
    }
   ],
   "source": [
    "complete_fr_text[:5]"
   ]
  },
  {
   "cell_type": "markdown",
   "metadata": {},
   "source": [
    "#### Encoding data with indexes"
   ]
  },
  {
   "cell_type": "code",
   "execution_count": 20,
   "metadata": {
    "ExecuteTime": {
     "end_time": "2020-08-21T19:50:28.499825Z",
     "start_time": "2020-08-21T19:50:27.688723Z"
    }
   },
   "outputs": [],
   "source": [
    "enc_en_text = [[en_word_idx[word] for word in line.split()] for line in complete_en_text]\n",
    "enc_fr_text = [[fr_word_idx[word] for word in line.split()] for line in complete_fr_text]"
   ]
  },
  {
   "cell_type": "markdown",
   "metadata": {},
   "source": [
    "####  Padding of sequences"
   ]
  },
  {
   "cell_type": "code",
   "execution_count": 21,
   "metadata": {
    "ExecuteTime": {
     "end_time": "2020-08-21T19:50:29.477816Z",
     "start_time": "2020-08-21T19:50:28.500733Z"
    }
   },
   "outputs": [],
   "source": [
    "pad_en_text = pad_sequences(sequences=enc_en_text, maxlen=max_en_seq_length, padding='post', truncating='post', value=en_word_idx['<PAD>'])\n",
    "pad_fr_text = pad_sequences(sequences=enc_fr_text, maxlen=max_fr_seq_length, padding='post', truncating='post', value=fr_word_idx['<PAD>'])"
   ]
  },
  {
   "cell_type": "code",
   "execution_count": 22,
   "metadata": {
    "ExecuteTime": {
     "end_time": "2020-08-21T19:50:29.484717Z",
     "start_time": "2020-08-21T19:50:29.478729Z"
    }
   },
   "outputs": [
    {
     "data": {
      "text/plain": [
       "array([[ 5603, 14726, 14726, ..., 14726, 14726, 14726],\n",
       "       [ 6157, 14726, 14726, ..., 14726, 14726, 14726],\n",
       "       [ 6157, 14726, 14726, ..., 14726, 14726, 14726],\n",
       "       ...,\n",
       "       [ 3336,  6975, 12015, ..., 14726, 14726, 14726],\n",
       "       [11699, 13072,   663, ...,  7443,  6973, 14726],\n",
       "       [ 6496, 12010, 14395, ...,     5,  8471, 12093]])"
      ]
     },
     "execution_count": 22,
     "metadata": {},
     "output_type": "execute_result"
    }
   ],
   "source": [
    "pad_en_text"
   ]
  },
  {
   "cell_type": "code",
   "execution_count": 23,
   "metadata": {
    "ExecuteTime": {
     "end_time": "2020-08-21T19:50:29.492715Z",
     "start_time": "2020-08-21T19:50:29.487704Z"
    }
   },
   "outputs": [
    {
     "data": {
      "text/plain": [
       "(177210, 44)"
      ]
     },
     "execution_count": 23,
     "metadata": {},
     "output_type": "execute_result"
    }
   ],
   "source": [
    "pad_en_text.shape"
   ]
  },
  {
   "cell_type": "code",
   "execution_count": 24,
   "metadata": {
    "ExecuteTime": {
     "end_time": "2020-08-21T19:50:29.498675Z",
     "start_time": "2020-08-21T19:50:29.494705Z"
    }
   },
   "outputs": [
    {
     "data": {
      "text/plain": [
       "array([[29594, 27919, 29596, ..., 29595, 29595, 29595],\n",
       "       [29594, 24489, 29596, ..., 29595, 29595, 29595],\n",
       "       [29594, 24489, 29596, ..., 29595, 29595, 29595],\n",
       "       ...,\n",
       "       [29594, 14864, 17084, ..., 29595, 29595, 29595],\n",
       "       [29594, 21192, 28742, ..., 29595, 29595, 29595],\n",
       "       [29594, 24969, 21542, ..., 15256, 17950, 29596]])"
      ]
     },
     "execution_count": 24,
     "metadata": {},
     "output_type": "execute_result"
    }
   ],
   "source": [
    "pad_fr_text"
   ]
  },
  {
   "cell_type": "code",
   "execution_count": 25,
   "metadata": {
    "ExecuteTime": {
     "end_time": "2020-08-21T19:50:29.503674Z",
     "start_time": "2020-08-21T19:50:29.500685Z"
    }
   },
   "outputs": [
    {
     "data": {
      "text/plain": [
       "(177210, 57)"
      ]
     },
     "execution_count": 25,
     "metadata": {},
     "output_type": "execute_result"
    }
   ],
   "source": [
    "pad_fr_text.shape"
   ]
  },
  {
   "cell_type": "markdown",
   "metadata": {},
   "source": [
    "### Step 4. Data preperation for model"
   ]
  },
  {
   "cell_type": "code",
   "execution_count": 26,
   "metadata": {
    "ExecuteTime": {
     "end_time": "2020-08-21T19:50:29.576554Z",
     "start_time": "2020-08-21T19:50:29.504657Z"
    }
   },
   "outputs": [],
   "source": [
    "X_train, X_test, y_train, y_test = train_test_split(pad_en_text, pad_fr_text, test_size=0.20, random_state=42)"
   ]
  },
  {
   "cell_type": "code",
   "execution_count": 27,
   "metadata": {
    "ExecuteTime": {
     "end_time": "2020-08-21T19:50:29.582449Z",
     "start_time": "2020-08-21T19:50:29.577464Z"
    }
   },
   "outputs": [
    {
     "data": {
      "text/plain": [
       "((141768, 44), (35442, 44))"
      ]
     },
     "execution_count": 27,
     "metadata": {},
     "output_type": "execute_result"
    }
   ],
   "source": [
    "X_train.shape, X_test.shape"
   ]
  },
  {
   "cell_type": "code",
   "execution_count": 28,
   "metadata": {
    "ExecuteTime": {
     "end_time": "2020-08-21T19:50:29.587436Z",
     "start_time": "2020-08-21T19:50:29.583487Z"
    }
   },
   "outputs": [
    {
     "data": {
      "text/plain": [
       "44"
      ]
     },
     "execution_count": 28,
     "metadata": {},
     "output_type": "execute_result"
    }
   ],
   "source": [
    "# def data_batch_generator(X,y):\n",
    "max_en_seq_length"
   ]
  },
  {
   "cell_type": "markdown",
   "metadata": {},
   "source": [
    "### Step 5. Model Building"
   ]
  },
  {
   "cell_type": "code",
   "execution_count": 29,
   "metadata": {
    "ExecuteTime": {
     "end_time": "2020-08-21T19:50:29.592423Z",
     "start_time": "2020-08-21T19:50:29.589431Z"
    }
   },
   "outputs": [],
   "source": [
    "embedding_dim = 50\n",
    "en_vocab_len = len(en_vocab)\n",
    "fr_vocab_len = len(fr_vocab)\n"
   ]
  },
  {
   "cell_type": "markdown",
   "metadata": {},
   "source": [
    "#### Encoder States"
   ]
  },
  {
   "cell_type": "code",
   "execution_count": 30,
   "metadata": {
    "ExecuteTime": {
     "end_time": "2020-08-21T19:50:31.159725Z",
     "start_time": "2020-08-21T19:50:29.593421Z"
    }
   },
   "outputs": [],
   "source": [
    "# LAYERS\n",
    "encoder_input = Input(shape =(X_train.shape[1]))\n",
    "encoder_embedding_layer = Embedding(en_vocab_len , embedding_dim,input_length= max_en_seq_length)\n",
    "encoder_lstm_layer = LSTM(50, return_state = True )"
   ]
  },
  {
   "cell_type": "code",
   "execution_count": 31,
   "metadata": {
    "ExecuteTime": {
     "end_time": "2020-08-21T19:50:31.175718Z",
     "start_time": "2020-08-21T19:50:31.160722Z"
    }
   },
   "outputs": [],
   "source": [
    "# OUTPUTS\n",
    "encoder_embedding_output = encoder_embedding_layer(encoder_input)"
   ]
  },
  {
   "cell_type": "code",
   "execution_count": 32,
   "metadata": {
    "ExecuteTime": {
     "end_time": "2020-08-21T19:50:31.539882Z",
     "start_time": "2020-08-21T19:50:31.177677Z"
    }
   },
   "outputs": [],
   "source": [
    "encoder_seq_output, encoder_memory_state, encoder_carry_state = encoder_lstm_layer(encoder_embedding_output)"
   ]
  },
  {
   "cell_type": "markdown",
   "metadata": {},
   "source": [
    "#### Encoder Model"
   ]
  },
  {
   "cell_type": "code",
   "execution_count": 33,
   "metadata": {
    "ExecuteTime": {
     "end_time": "2020-08-21T19:50:31.552851Z",
     "start_time": "2020-08-21T19:50:31.540880Z"
    }
   },
   "outputs": [],
   "source": [
    "model = Model(encoder_input, encoder_seq_output)"
   ]
  },
  {
   "cell_type": "code",
   "execution_count": 34,
   "metadata": {
    "ExecuteTime": {
     "end_time": "2020-08-21T19:50:31.578474Z",
     "start_time": "2020-08-21T19:50:31.555841Z"
    }
   },
   "outputs": [
    {
     "name": "stdout",
     "output_type": "stream",
     "text": [
      "Model: \"functional_1\"\n",
      "_________________________________________________________________\n",
      "Layer (type)                 Output Shape              Param #   \n",
      "=================================================================\n",
      "input_1 (InputLayer)         [(None, 44)]              0         \n",
      "_________________________________________________________________\n",
      "embedding (Embedding)        (None, 44, 50)            736400    \n",
      "_________________________________________________________________\n",
      "lstm (LSTM)                  [(None, 50), (None, 50),  20200     \n",
      "=================================================================\n",
      "Total params: 756,600\n",
      "Trainable params: 756,600\n",
      "Non-trainable params: 0\n",
      "_________________________________________________________________\n"
     ]
    }
   ],
   "source": [
    "model.summary()"
   ]
  },
  {
   "cell_type": "markdown",
   "metadata": {},
   "source": [
    "####  Decoder States"
   ]
  },
  {
   "cell_type": "code",
   "execution_count": 35,
   "metadata": {
    "ExecuteTime": {
     "end_time": "2020-08-21T19:50:31.595680Z",
     "start_time": "2020-08-21T19:50:31.583467Z"
    }
   },
   "outputs": [],
   "source": [
    "decoder_input = Input(shape=(y_train.shape[1]))"
   ]
  },
  {
   "cell_type": "code",
   "execution_count": 36,
   "metadata": {
    "ExecuteTime": {
     "end_time": "2020-08-21T19:50:31.610297Z",
     "start_time": "2020-08-21T19:50:31.601037Z"
    }
   },
   "outputs": [],
   "source": [
    "decoder_embedding_layer = Embedding(fr_vocab_len , embedding_dim,input_length= max_fr_seq_length)"
   ]
  },
  {
   "cell_type": "code",
   "execution_count": 37,
   "metadata": {
    "ExecuteTime": {
     "end_time": "2020-08-21T19:50:31.629262Z",
     "start_time": "2020-08-21T19:50:31.614800Z"
    }
   },
   "outputs": [],
   "source": [
    "decoder_lstm_layer = LSTM(50, return_sequences=True, return_state=True)"
   ]
  },
  {
   "cell_type": "code",
   "execution_count": 38,
   "metadata": {
    "ExecuteTime": {
     "end_time": "2020-08-21T19:50:31.677759Z",
     "start_time": "2020-08-21T19:50:31.636872Z"
    }
   },
   "outputs": [],
   "source": [
    "decoder_embedding_output = decoder_embedding_layer(decoder_input)"
   ]
  },
  {
   "cell_type": "code",
   "execution_count": 39,
   "metadata": {
    "ExecuteTime": {
     "end_time": "2020-08-21T19:50:31.919111Z",
     "start_time": "2020-08-21T19:50:31.681750Z"
    }
   },
   "outputs": [],
   "source": [
    "decoder_seq_output, _, _ = decoder_lstm_layer(decoder_embedding_output, initial_state=[encoder_memory_state, encoder_carry_state])"
   ]
  },
  {
   "cell_type": "code",
   "execution_count": 40,
   "metadata": {
    "ExecuteTime": {
     "end_time": "2020-08-21T19:50:31.924099Z",
     "start_time": "2020-08-21T19:50:31.920109Z"
    }
   },
   "outputs": [],
   "source": [
    "decoder_dense = Dense(fr_vocab_len, activation='softmax')"
   ]
  },
  {
   "cell_type": "code",
   "execution_count": 41,
   "metadata": {
    "ExecuteTime": {
     "end_time": "2020-08-21T19:50:31.948073Z",
     "start_time": "2020-08-21T19:50:31.925096Z"
    }
   },
   "outputs": [],
   "source": [
    "decoder_output = decoder_dense(decoder_seq_output)"
   ]
  },
  {
   "cell_type": "markdown",
   "metadata": {},
   "source": [
    "####  Decoder model"
   ]
  },
  {
   "cell_type": "code",
   "execution_count": 42,
   "metadata": {
    "ExecuteTime": {
     "end_time": "2020-08-21T19:50:31.958049Z",
     "start_time": "2020-08-21T19:50:31.949032Z"
    }
   },
   "outputs": [],
   "source": [
    "model = Model([encoder_input, decoder_input], decoder_output)"
   ]
  },
  {
   "cell_type": "code",
   "execution_count": 43,
   "metadata": {
    "ExecuteTime": {
     "end_time": "2020-08-21T19:50:31.963996Z",
     "start_time": "2020-08-21T19:50:31.959005Z"
    }
   },
   "outputs": [
    {
     "name": "stdout",
     "output_type": "stream",
     "text": [
      "Model: \"functional_3\"\n",
      "__________________________________________________________________________________________________\n",
      "Layer (type)                    Output Shape         Param #     Connected to                     \n",
      "==================================================================================================\n",
      "input_1 (InputLayer)            [(None, 44)]         0                                            \n",
      "__________________________________________________________________________________________________\n",
      "input_2 (InputLayer)            [(None, 57)]         0                                            \n",
      "__________________________________________________________________________________________________\n",
      "embedding (Embedding)           (None, 44, 50)       736400      input_1[0][0]                    \n",
      "__________________________________________________________________________________________________\n",
      "embedding_1 (Embedding)         (None, 57, 50)       1479850     input_2[0][0]                    \n",
      "__________________________________________________________________________________________________\n",
      "lstm (LSTM)                     [(None, 50), (None,  20200       embedding[0][0]                  \n",
      "__________________________________________________________________________________________________\n",
      "lstm_1 (LSTM)                   [(None, 57, 50), (No 20200       embedding_1[0][0]                \n",
      "                                                                 lstm[0][1]                       \n",
      "                                                                 lstm[0][2]                       \n",
      "__________________________________________________________________________________________________\n",
      "dense (Dense)                   (None, 57, 29597)    1509447     lstm_1[0][0]                     \n",
      "==================================================================================================\n",
      "Total params: 3,766,097\n",
      "Trainable params: 3,766,097\n",
      "Non-trainable params: 0\n",
      "__________________________________________________________________________________________________\n"
     ]
    }
   ],
   "source": [
    "model.summary()"
   ]
  },
  {
   "cell_type": "markdown",
   "metadata": {},
   "source": [
    "#### Compile Model"
   ]
  },
  {
   "cell_type": "code",
   "execution_count": 44,
   "metadata": {
    "ExecuteTime": {
     "end_time": "2020-08-21T19:50:31.976958Z",
     "start_time": "2020-08-21T19:50:31.965987Z"
    }
   },
   "outputs": [],
   "source": [
    "model.compile(optimizer='adam', loss='categorical_crossentropy',  metrics='f1')"
   ]
  },
  {
   "cell_type": "code",
   "execution_count": 45,
   "metadata": {
    "ExecuteTime": {
     "end_time": "2020-08-21T19:50:31.980946Z",
     "start_time": "2020-08-21T19:50:31.977955Z"
    }
   },
   "outputs": [],
   "source": [
    "# prepare decoder input and target data format using a generator"
   ]
  },
  {
   "cell_type": "code",
   "execution_count": 46,
   "metadata": {
    "ExecuteTime": {
     "end_time": "2020-08-21T19:50:31.989922Z",
     "start_time": "2020-08-21T19:50:31.981944Z"
    }
   },
   "outputs": [],
   "source": [
    "# prepare decoder input and target data format using a generator\n",
    "def batch_data_generator(X, y, batch_size=64):\n",
    "    while True:\n",
    "        for batch in range (0, X_train.shape[0], batch_size):\n",
    "            encoder_input_data = np.zeros((batch_size, X_train.shape[1]), dtype = 'int32')\n",
    "            decoder_input_data = np.zeros((batch_size, y_train.shape[1]), dtype = 'int32')\n",
    "            decoder_target_data = np.zeros((batch_size, y_train.shape[1] ,fr_vocab_len) ,dtype = 'int32')\n",
    "\n",
    "            for seq_index, (input_seq, target_seq) in enumerate(zip(X[batch:batch+batch_size], y[batch:batch+batch_size])):\n",
    "                    \n",
    "                    for word_index, word in enumerate(input_seq):\n",
    "                        encoder_input_data[seq_index, word_index] = word\n",
    "                    \n",
    "                    for word_index, word in enumerate(target_seq):\n",
    "                        if word_index<len(target_seq)-1: \n",
    "                            decoder_input_data[seq_index, word_index] = word # decoder input seq\n",
    "                        if word_index>0: \n",
    "                            decoder_target_data[seq_index, word_index - 1, word] = 1.\n",
    "\n",
    "            yield([encoder_input_data, decoder_input_data], decoder_target_data)"
   ]
  },
  {
   "cell_type": "code",
   "execution_count": 47,
   "metadata": {
    "ExecuteTime": {
     "end_time": "2020-08-21T19:50:31.995906Z",
     "start_time": "2020-08-21T19:50:31.990920Z"
    }
   },
   "outputs": [],
   "source": [
    "batch_size = 64\n",
    "epochs = 2\n",
    "steps_per_epoch = (X_train.shape[0]/batch_size)"
   ]
  },
  {
   "cell_type": "code",
   "execution_count": 48,
   "metadata": {
    "ExecuteTime": {
     "end_time": "2020-08-21T19:50:57.662640Z",
     "start_time": "2020-08-21T19:50:57.659676Z"
    }
   },
   "outputs": [],
   "source": [
    "# history = model.fit(batch_data_generator(X_train, y_train,batch_size), \n",
    "#                     steps_per_epoch = steps_per_epoch,\n",
    "#                     epochs=epochs,\n",
    "#                     verbose = 2)"
   ]
  },
  {
   "cell_type": "code",
   "execution_count": null,
   "metadata": {},
   "outputs": [],
   "source": []
  }
 ],
 "metadata": {
  "kernelspec": {
   "display_name": "Python 3",
   "language": "python",
   "name": "python3"
  },
  "language_info": {
   "codemirror_mode": {
    "name": "ipython",
    "version": 3
   },
   "file_extension": ".py",
   "mimetype": "text/x-python",
   "name": "python",
   "nbconvert_exporter": "python",
   "pygments_lexer": "ipython3",
   "version": "3.7.7"
  }
 },
 "nbformat": 4,
 "nbformat_minor": 4
}
